{
 "cells": [
  {
   "cell_type": "code",
   "execution_count": 1,
   "metadata": {},
   "outputs": [],
   "source": [
    "import random\n",
    "import math"
   ]
  },
  {
   "cell_type": "code",
   "execution_count": 2,
   "metadata": {},
   "outputs": [],
   "source": [
    "def DiceRoll():\n",
    "    return random.choice(range(1,7))"
   ]
  },
  {
   "cell_type": "markdown",
   "metadata": {},
   "source": [
    "Game of Chance where you get 24 rolls of a fair die. If you roll two consecutive 1's, you win and get 23 arbitrary monetary units for each arbitrary monetary unit wagered."
   ]
  },
  {
   "cell_type": "code",
   "execution_count": 5,
   "metadata": {},
   "outputs": [],
   "source": [
    "def Snake24():\n",
    "    rolls = []\n",
    "    d_prev = 0\n",
    "    for roll in range(24):\n",
    "        if d_prev == 0:\n",
    "            d_prev = DiceRoll()\n",
    "            rolls.append(d_prev)\n",
    "        else:\n",
    "            rolls.append(DiceRoll())        \n",
    "            if (rolls[-1] == 1 and rolls[-2] == 1):\n",
    "                return 1\n",
    "                break\n",
    "    return 0"
   ]
  },
  {
   "cell_type": "code",
   "execution_count": 6,
   "metadata": {},
   "outputs": [],
   "source": [
    "def simulate_games(num_games):\n",
    "    num_wins = 0\n",
    "    for i in range(num_games):\n",
    "        num_wins += Snake24()\n",
    "    return num_wins/num_games        "
   ]
  },
  {
   "cell_type": "code",
   "execution_count": 8,
   "metadata": {},
   "outputs": [],
   "source": [
    "# Analytic Solution to Dice Roll Problem\n",
    "def P(n):\n",
    "    if (n == 0 or n == 1):\n",
    "        return 1\n",
    "    else:\n",
    "        return (P(n-1)*(5/6) + P(n-2)*5/(6)**2) "
   ]
  },
  {
   "cell_type": "code",
   "execution_count": 9,
   "metadata": {},
   "outputs": [
    {
     "data": {
      "text/plain": [
       "0.4340721339544009"
      ]
     },
     "execution_count": 9,
     "metadata": {},
     "output_type": "execute_result"
    }
   ],
   "source": [
    "1-P(24)"
   ]
  },
  {
   "cell_type": "code",
   "execution_count": 10,
   "metadata": {},
   "outputs": [],
   "source": [
    "def simulate_trials(num_trials, num_games):\n",
    "    trial_tracker = []\n",
    "    for i in range(num_trials):        \n",
    "        win_percentage = simulate_games(num_games)\n",
    "        trial_tracker.append(win_percentage)\n",
    "    \n",
    "    mean = sum(trial_tracker)/len(trial_tracker) \n",
    "    std_dev =  math.sqrt(sum([((x - mean) ** 2) for x in trial_tracker]) / len(trial_tracker))\n",
    "    print(\"mean: \", mean, \" standard of dev.: \", std_dev)   \n",
    "        "
   ]
  },
  {
   "cell_type": "code",
   "execution_count": 11,
   "metadata": {},
   "outputs": [
    {
     "name": "stdout",
     "output_type": "stream",
     "text": [
      "mean:  0.4359000000000001  standard of dev.:  0.04810602872821657\n"
     ]
    }
   ],
   "source": [
    "simulate_trials(100, 100)"
   ]
  }
 ],
 "metadata": {
  "kernelspec": {
   "display_name": "Python 3",
   "language": "python",
   "name": "python3"
  },
  "language_info": {
   "codemirror_mode": {
    "name": "ipython",
    "version": 3
   },
   "file_extension": ".py",
   "mimetype": "text/x-python",
   "name": "python",
   "nbconvert_exporter": "python",
   "pygments_lexer": "ipython3",
   "version": "3.8.3"
  }
 },
 "nbformat": 4,
 "nbformat_minor": 4
}
