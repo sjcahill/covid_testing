{
 "cells": [
  {
   "cell_type": "code",
   "execution_count": 1,
   "metadata": {},
   "outputs": [],
   "source": [
    "from SEIR_viral_load import *\n",
    "import seaborn as sns\n",
    "import matplotlib.pyplot as plt\n",
    "import pandas as pd"
   ]
  },
  {
   "cell_type": "code",
   "execution_count": 2,
   "metadata": {},
   "outputs": [],
   "source": [
    "#Define Model Parameters\n",
    "\n",
    "Pop = 20000\n",
    "external_rate = 1/Pop\n",
    "D = list(range(1, 15))\n",
    "L = [3, 5, 6]\n",
    "inf_f = logproportional\n",
    "prev_cutoff = 0.01\n",
    "se_sample = .95\n",
    "refusal_rate = 0\n",
    "asymptomatic = 0.65\n",
    "results_delay=0\n",
    "R0 = 2.5\n",
    "cutoff = 6\n",
    "I_init=100\n",
    "t_max = 365"
   ]
  },
  {
   "cell_type": "code",
   "execution_count": null,
   "metadata": {},
   "outputs": [],
   "source": [
    "infection_dict = {'3' : [], '5' : [], '6' : []}\n",
    "for l in L:\n",
    "    for d in D:\n",
    "        total_inf = 0\n",
    "        for i in range(10):\n",
    "            _, _, _, _, _, ext_inf, int_inf = SEIRsimulation_suppression(Pop, external_rate, d, l, inf_f, prev_cutoff, se_sample,\n",
    "                                                                     refusal_rate, asymptomatic, results_delay, \n",
    "                                                                     R0, cutoff, I_init, t_max)\n",
    "            total_inf = ext_inf + int_inf\n",
    "        total_inf = total_inf/10\n",
    "        infection_dict[str(l)].append(total_inf)"
   ]
  },
  {
   "cell_type": "code",
   "execution_count": null,
   "metadata": {},
   "outputs": [],
   "source": [
    "infection_df = pd.DataFrame(infection_dict)\n",
    "infection_df = infection_df.shift(1).iloc[1:]"
   ]
  },
  {
   "cell_type": "code",
   "execution_count": null,
   "metadata": {},
   "outputs": [],
   "source": [
    "infection_df"
   ]
  },
  {
   "cell_type": "code",
   "execution_count": null,
   "metadata": {},
   "outputs": [],
   "source": [
    "column_dict = {'3' : 'LOD 10^3', '5' : 'LOD 10^5', '6' : 'LOD 10^6'}\n",
    "infection_df.rename(columns=column_dict, inplace=True)"
   ]
  },
  {
   "cell_type": "code",
   "execution_count": null,
   "metadata": {},
   "outputs": [],
   "source": [
    "infection_df_scaled = infection_df/1000"
   ]
  },
  {
   "cell_type": "code",
   "execution_count": null,
   "metadata": {
    "scrolled": false
   },
   "outputs": [],
   "source": [
    "fig, ax = plt.subplots(figsize=(8,8))\n",
    "ax.set_xlabel(\"Testing Interval (Days)\")\n",
    "ax.set_ylabel(\"Total Infections (Thousands)\")\n",
    "ax.set_title(\"Effects of Different Testing Intervals on Total Infections\")\n",
    "ax.set_xlim(0,13)\n",
    "ax = sns.lineplot(data = infection_df_scaled, palette=['#F80A23', '#984CD1', 'k'], dashes=False)\n",
    "fig.savefig(r'Figures\\TestingIntervalEffects.png')"
   ]
  },
  {
   "cell_type": "code",
   "execution_count": null,
   "metadata": {},
   "outputs": [],
   "source": []
  }
 ],
 "metadata": {
  "kernelspec": {
   "display_name": "Python 3",
   "language": "python",
   "name": "python3"
  },
  "language_info": {
   "codemirror_mode": {
    "name": "ipython",
    "version": 3
   },
   "file_extension": ".py",
   "mimetype": "text/x-python",
   "name": "python",
   "nbconvert_exporter": "python",
   "pygments_lexer": "ipython3",
   "version": "3.8.3"
  }
 },
 "nbformat": 4,
 "nbformat_minor": 4
}
