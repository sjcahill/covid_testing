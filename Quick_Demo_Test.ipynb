{
 "cells": [
  {
   "cell_type": "code",
   "execution_count": 1,
   "metadata": {},
   "outputs": [],
   "source": [
    "from SEIR_viral_load import *\n",
    "import seaborn as sns\n",
    "import matplotlib.pyplot as plt\n",
    "import pandas as pd"
   ]
  },
  {
   "cell_type": "code",
   "execution_count": 2,
   "metadata": {},
   "outputs": [],
   "source": [
    "#Defining Parameters\n",
    "N = 10000\n",
    "external_rate = 1/N\n",
    "D = 14\n",
    "L = 5\n",
    "infectiousness_function = logproportional\n",
    "prev_cutoff = 0.01\n",
    "se_sample = 1\n",
    "refusal_rate = 1\n",
    "asymptomatic = 0.65\n",
    "results_delay = 0\n",
    "R0 = 2.5\n",
    "cutoff = 6\n",
    "I_init=0\n",
    "tmax = 50\n",
    "calibration_mode = True"
   ]
  },
  {
   "cell_type": "code",
   "execution_count": null,
   "metadata": {},
   "outputs": [],
   "source": [
    "%%time\n",
    "\n",
    "get_Reff(N,D,L,infectiousness_function,asymptomatic=0.65,results_delay=0,R0=2.5,cutoff=6)"
   ]
  },
  {
   "cell_type": "code",
   "execution_count": null,
   "metadata": {},
   "outputs": [],
   "source": [
    "%%time\n",
    "\n",
    "S, I, R, Q, SQ, *_ = SEIRsimulation_suppression(N, external_rate, D, L, logproportional, prev_cutoff, se_sample,\n",
    "                                                refusal_rate, asymptomatic, results_delay, R0, cutoff, I_init,\n",
    "                                                tmax, calibration_mode)\n",
    "\n",
    "S, I, R = np.array(S), np.array(I), np.array(R)"
   ]
  },
  {
   "cell_type": "code",
   "execution_count": null,
   "metadata": {},
   "outputs": [],
   "source": [
    "data_dict = {'S' : S, 'I' : I, 'R' : R}\n",
    "data = pd.DataFrame(data_dict)\n",
    "sns.lineplot(data = data)"
   ]
  },
  {
   "cell_type": "code",
   "execution_count": 7,
   "metadata": {},
   "outputs": [
    {
     "name": "stdout",
     "output_type": "stream",
     "text": [
      "1 0.0\n",
      "1 0.0\n",
      "2 0.0\n",
      "2 0.0\n",
      "2 3.093020599709284e-05\n",
      "3 0.00011647050797092273\n",
      "5 0.00014876276874387084\n",
      "4 0.00010762014724252644\n",
      "4 8.632076458880977e-05\n",
      "6 8.677281346614052e-05\n",
      "8 0.00020422098407435474\n",
      "8 0.0002674603414651866\n",
      "8 0.00025722387382698386\n",
      "7 0.00021659931115958209\n",
      "6 0.0002481440583270711\n",
      "6 0.00038249156309433374\n",
      "7 0.0003070491640937423\n",
      "9 0.00023283380672400877\n",
      "8 0.00018701583844416003\n",
      "8 0.00013298018909135845\n",
      "6 0.0002105195321288056\n",
      "6 0.00018961591633670505\n",
      "7 0.00011161500178280548\n",
      "7 0.0001159470182752198\n",
      "8 2.2273034497866107e-05\n",
      "8 3.114833281780971e-05\n",
      "8 0.00022088502845463154\n",
      "9 0.0002981406094690886\n",
      "12 0.0004068764659522772\n",
      "10 0.00034246810114002546\n",
      "12 0.0003737238805501253\n",
      "11 0.00045810171280835643\n",
      "11 0.0005064476492957493\n",
      "10 0.00044438480947062153\n",
      "12 0.00040109636315011077\n",
      "12 0.0002842749549742951\n",
      "10 0.00010182172774486631\n",
      "10 9.162073357071865e-05\n",
      "9 8.40469932492649e-05\n",
      "11 0.00024639144809912583\n",
      "12 0.0004510136558377731\n",
      "14 0.0004875299295574731\n",
      "12 0.00025769945985953946\n",
      "11 0.00038632912480018877\n",
      "9 0.00033596430508464614\n",
      "8 0.00029494276356389904\n",
      "7 0.00012195077822241274\n",
      "6 5.9423425387672424e-05\n",
      "6 0.00012976271351550217\n",
      "6 0.0001647215947570002\n"
     ]
    }
   ],
   "source": [
    "*_, = SEIRsimulation(N, external_rate, D, L, logproportional, \n",
    "                                             asymptomatic, results_delay, R0, cutoff, I_init,\n",
    "                                                tmax, calibration_mode)"
   ]
  },
  {
   "cell_type": "code",
   "execution_count": null,
   "metadata": {},
   "outputs": [],
   "source": []
  }
 ],
 "metadata": {
  "kernelspec": {
   "display_name": "Python 3",
   "language": "python",
   "name": "python3"
  },
  "language_info": {
   "codemirror_mode": {
    "name": "ipython",
    "version": 3
   },
   "file_extension": ".py",
   "mimetype": "text/x-python",
   "name": "python",
   "nbconvert_exporter": "python",
   "pygments_lexer": "ipython3",
   "version": "3.8.3"
  }
 },
 "nbformat": 4,
 "nbformat_minor": 4
}
