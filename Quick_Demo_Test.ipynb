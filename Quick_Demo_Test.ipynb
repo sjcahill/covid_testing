{
 "cells": [
  {
   "cell_type": "code",
   "execution_count": 27,
   "metadata": {},
   "outputs": [],
   "source": [
    "from SEIR_viral_load import *\n",
    "import seaborn as sns\n",
    "import matplotlib.pyplot as plt\n",
    "import pandas as pd"
   ]
  },
  {
   "cell_type": "markdown",
   "metadata": {},
   "source": [
    "## Idea for this demo based on code provided by [Daniel Larremore](https://www.colorado.edu/cs/daniel-larremore)"
   ]
  },
  {
   "cell_type": "code",
   "execution_count": 28,
   "metadata": {},
   "outputs": [],
   "source": [
    "tracker = pd.DataFrame(index = [3, 5, 7, 14, 30], columns = ['LOD5', 'LOD3', 'LOD3 + 2'])"
   ]
  },
  {
   "cell_type": "markdown",
   "metadata": {},
   "source": [
    "#### Testing reduction in R using test with LOD 5 (10^5 cp/ml) using 5 different testing intervals"
   ]
  },
  {
   "cell_type": "code",
   "execution_count": 29,
   "metadata": {},
   "outputs": [
    {
     "name": "stdout",
     "output_type": "stream",
     "text": [
      "Testing every 3 days with LOD 5 approximately reduces from 2.50 to 0.34\n",
      "Testing every 5 days with LOD 5 approximately reduces from 2.50 to 0.80\n",
      "Testing every 7 days with LOD 5 approximately reduces from 2.50 to 1.18\n",
      "Testing every 14 days with LOD 5 approximately reduces from 2.50 to 1.78\n",
      "Testing every 30 days with LOD 5 approximately reduces from 2.50 to 2.15\n"
     ]
    }
   ],
   "source": [
    "L = 5\n",
    "D = [3, 5, 7, 14, 30]\n",
    "dt = 0\n",
    "se = 1\n",
    "participation = 1\n",
    "R0 = 2.5\n",
    "temp_list = []\n",
    "for d in D:\n",
    "    f = get_R_reduction_factor(d,L,logproportional,asymptomatic=0.65,dt=0,se=1)\n",
    "    R = R0*(f*participation + 1 - participation)\n",
    "    temp_list.append(R)\n",
    "    print('Testing every {} days with LOD {} approximately reduces from {:.2f} to {:.2f}'.format(d,L,R0,R))\n",
    "\n",
    "tracker['LOD5'] = temp_list"
   ]
  },
  {
   "cell_type": "markdown",
   "metadata": {},
   "source": [
    "### Let's check to see if using a more sensitive test changes the results (i.e. PCR)"
   ]
  },
  {
   "cell_type": "code",
   "execution_count": 31,
   "metadata": {},
   "outputs": [
    {
     "name": "stdout",
     "output_type": "stream",
     "text": [
      "Testing every 3 days with LOD 3 approximately reduces from 2.50 to 0.20\n",
      "Testing every 5 days with LOD 3 approximately reduces from 2.50 to 0.62\n",
      "Testing every 7 days with LOD 3 approximately reduces from 2.50 to 1.00\n",
      "Testing every 14 days with LOD 3 approximately reduces from 2.50 to 1.69\n",
      "Testing every 30 days with LOD 3 approximately reduces from 2.50 to 2.10\n"
     ]
    }
   ],
   "source": [
    "L = 3\n",
    "D = [3, 5, 7, 14, 30]\n",
    "dt = 0\n",
    "se = 1\n",
    "participation = 1\n",
    "R0 = 2.5\n",
    "temp_list = []\n",
    "\n",
    "for d in D:\n",
    "    f = get_R_reduction_factor(d,L,logproportional,asymptomatic=0.65,dt=0,se=1)\n",
    "    R = R0*(f*participation + 1 - participation)\n",
    "    temp_list.append(R)\n",
    "    print('Testing every {} days with LOD {} approximately reduces from {:.2f} to {:.2f}'.format(d,L,R0,R))\n",
    "\n",
    "tracker['LOD3'] = temp_list"
   ]
  },
  {
   "cell_type": "code",
   "execution_count": 32,
   "metadata": {},
   "outputs": [
    {
     "name": "stdout",
     "output_type": "stream",
     "text": [
      "Testing every 3 days with LOD 3 approximately reduces from 2.50 to 1.09\n",
      "Testing every 5 days with LOD 3 approximately reduces from 2.50 to 1.46\n",
      "Testing every 7 days with LOD 3 approximately reduces from 2.50 to 1.72\n",
      "Testing every 14 days with LOD 3 approximately reduces from 2.50 to 2.09\n",
      "Testing every 30 days with LOD 3 approximately reduces from 2.50 to 2.31\n"
     ]
    }
   ],
   "source": [
    "L = 3\n",
    "D = [3, 5, 7, 14, 30]\n",
    "dt = 2\n",
    "se = 1\n",
    "participation = 1\n",
    "R0 = 2.5\n",
    "temp_list = []\n",
    "\n",
    "for d in D:\n",
    "    f = get_R_reduction_factor(d,L,logproportional,asymptomatic=0.65,dt=2,se=1)\n",
    "    R = R0*(f*participation + 1 - participation)\n",
    "    temp_list.append(R)\n",
    "    print('Testing every {} days with LOD {} approximately reduces from {:.2f} to {:.2f}'.format(d,L,R0,R))\n",
    "\n",
    "tracker['LOD3 + 2'] = temp_list"
   ]
  },
  {
   "cell_type": "code",
   "execution_count": 33,
   "metadata": {},
   "outputs": [
    {
     "data": {
      "text/html": [
       "<div>\n",
       "<style scoped>\n",
       "    .dataframe tbody tr th:only-of-type {\n",
       "        vertical-align: middle;\n",
       "    }\n",
       "\n",
       "    .dataframe tbody tr th {\n",
       "        vertical-align: top;\n",
       "    }\n",
       "\n",
       "    .dataframe thead th {\n",
       "        text-align: right;\n",
       "    }\n",
       "</style>\n",
       "<table border=\"1\" class=\"dataframe\">\n",
       "  <thead>\n",
       "    <tr style=\"text-align: right;\">\n",
       "      <th></th>\n",
       "      <th>LOD5</th>\n",
       "      <th>LOD3</th>\n",
       "      <th>LOD3 + 2</th>\n",
       "    </tr>\n",
       "  </thead>\n",
       "  <tbody>\n",
       "    <tr>\n",
       "      <th>3</th>\n",
       "      <td>0.343473</td>\n",
       "      <td>0.201127</td>\n",
       "      <td>1.091797</td>\n",
       "    </tr>\n",
       "    <tr>\n",
       "      <th>5</th>\n",
       "      <td>0.796798</td>\n",
       "      <td>0.615990</td>\n",
       "      <td>1.460878</td>\n",
       "    </tr>\n",
       "    <tr>\n",
       "      <th>7</th>\n",
       "      <td>1.178281</td>\n",
       "      <td>0.996011</td>\n",
       "      <td>1.722297</td>\n",
       "    </tr>\n",
       "    <tr>\n",
       "      <th>14</th>\n",
       "      <td>1.779299</td>\n",
       "      <td>1.688327</td>\n",
       "      <td>2.093962</td>\n",
       "    </tr>\n",
       "    <tr>\n",
       "      <th>30</th>\n",
       "      <td>2.153252</td>\n",
       "      <td>2.096443</td>\n",
       "      <td>2.311672</td>\n",
       "    </tr>\n",
       "  </tbody>\n",
       "</table>\n",
       "</div>"
      ],
      "text/plain": [
       "        LOD5      LOD3  LOD3 + 2\n",
       "3   0.343473  0.201127  1.091797\n",
       "5   0.796798  0.615990  1.460878\n",
       "7   1.178281  0.996011  1.722297\n",
       "14  1.779299  1.688327  2.093962\n",
       "30  2.153252  2.096443  2.311672"
      ]
     },
     "execution_count": 33,
     "metadata": {},
     "output_type": "execute_result"
    }
   ],
   "source": [
    "tracker"
   ]
  },
  {
   "cell_type": "code",
   "execution_count": null,
   "metadata": {},
   "outputs": [],
   "source": []
  }
 ],
 "metadata": {
  "kernelspec": {
   "display_name": "Python 3",
   "language": "python",
   "name": "python3"
  },
  "language_info": {
   "codemirror_mode": {
    "name": "ipython",
    "version": 3
   },
   "file_extension": ".py",
   "mimetype": "text/x-python",
   "name": "python",
   "nbconvert_exporter": "python",
   "pygments_lexer": "ipython3",
   "version": "3.8.3"
  }
 },
 "nbformat": 4,
 "nbformat_minor": 4
}
